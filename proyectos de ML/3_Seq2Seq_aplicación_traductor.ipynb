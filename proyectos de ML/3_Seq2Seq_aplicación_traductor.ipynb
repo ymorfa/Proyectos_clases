{
  "nbformat": 4,
  "nbformat_minor": 0,
  "metadata": {
    "colab": {
      "name": "Tarea_5_de Aprendizaje_Automático_Yamil_Ernesto.ipynb",
      "provenance": [],
      "collapsed_sections": [],
      "machine_shape": "hm"
    },
    "kernelspec": {
      "name": "python3",
      "display_name": "Python 3"
    },
    "language_info": {
      "name": "python"
    },
    "accelerator": "GPU"
  },
  "cells": [
    {
      "cell_type": "markdown",
      "metadata": {
        "id": "87MC4ZQ7by61"
      },
      "source": [
        "## Sequence-to-sequence\n",
        "**Yamil Ernesto Morfa Avalos**\n",
        "\n",
        "En este trabajo implementaremos el modelo Sequence-to-sequence (Seq2Seq). Este en terminos simples es un modelo que se entrena para convertir una sequencia de un dominio (por ejemplo frases en ingles) a una sequencia en otro dominio (frases en español) "
      ]
    },
    {
      "cell_type": "markdown",
      "metadata": {
        "id": "CNZTXAi3fuKx"
      },
      "source": [
        "Descargemos y acomodemos los datos para el trabajo"
      ]
    },
    {
      "cell_type": "code",
      "metadata": {
        "colab": {
          "base_uri": "https://localhost:8080/"
        },
        "id": "1yyUC4LveR6C",
        "outputId": "4e352036-4287-46f6-c133-9dfc7aa01380"
      },
      "source": [
        "!wget -O en-es.txt.zip http://opus.nlpl.eu/download.php?f=OpenSubtitles/v2018/moses/en-es.txt.zip\n",
        "!unzip en-es.txt.zip\n",
        "!rm en-es.txt.zip\n",
        "!rm OpenSubtitles.en-es.ids\n",
        "\n"
      ],
      "execution_count": null,
      "outputs": [
        {
          "output_type": "stream",
          "text": [
            "--2021-06-17 23:04:28--  http://opus.nlpl.eu/download.php?f=OpenSubtitles/v2018/moses/en-es.txt.zip\n",
            "Resolving opus.nlpl.eu (opus.nlpl.eu)... 193.166.25.9\n",
            "Connecting to opus.nlpl.eu (opus.nlpl.eu)|193.166.25.9|:80... connected.\n",
            "HTTP request sent, awaiting response... 302 Found\n",
            "Location: https://opus.nlpl.eu/download.php?f=OpenSubtitles/v2018/moses/en-es.txt.zip [following]\n",
            "--2021-06-17 23:04:30--  https://opus.nlpl.eu/download.php?f=OpenSubtitles/v2018/moses/en-es.txt.zip\n",
            "Connecting to opus.nlpl.eu (opus.nlpl.eu)|193.166.25.9|:443... connected.\n",
            "HTTP request sent, awaiting response... 302 Found\n",
            "Location: https://object.pouta.csc.fi/OPUS-OpenSubtitles/v2018/moses/en-es.txt.zip [following]\n",
            "--2021-06-17 23:04:31--  https://object.pouta.csc.fi/OPUS-OpenSubtitles/v2018/moses/en-es.txt.zip\n",
            "Resolving object.pouta.csc.fi (object.pouta.csc.fi)... 86.50.254.19\n",
            "Connecting to object.pouta.csc.fi (object.pouta.csc.fi)|86.50.254.19|:443... connected.\n",
            "HTTP request sent, awaiting response... 200 OK\n",
            "Length: 1888798249 (1.8G) [application/zip]\n",
            "Saving to: ‘en-es.txt.zip’\n",
            "\n",
            "en-es.txt.zip       100%[===================>]   1.76G  10.3MB/s    in 2m 58s  \n",
            "\n",
            "2021-06-17 23:07:31 (10.1 MB/s) - ‘en-es.txt.zip’ saved [1888798249/1888798249]\n",
            "\n",
            "Archive:  en-es.txt.zip\n",
            "  inflating: OpenSubtitles.en-es.en  \n",
            "  inflating: OpenSubtitles.en-es.es  \n",
            "  inflating: OpenSubtitles.en-es.ids  \n",
            "  inflating: README                  \n"
          ],
          "name": "stdout"
        }
      ]
    },
    {
      "cell_type": "markdown",
      "metadata": {
        "id": "0Jfx8l34OBZB"
      },
      "source": [
        "Echemos un vistazo a los datos"
      ]
    },
    {
      "cell_type": "code",
      "metadata": {
        "colab": {
          "base_uri": "https://localhost:8080/"
        },
        "id": "R16UX4X8e2Dn",
        "outputId": "dbdab3c8-f619-481d-a00e-c5055d7cbe95"
      },
      "source": [
        "!head -10 OpenSubtitles.en-es.en"
      ],
      "execution_count": null,
      "outputs": [
        {
          "output_type": "stream",
          "text": [
            "The Loner\n",
            "You love curry, right?\n",
            "I'll give you more.\n",
            "Hey!\n",
            "Is it good?\n",
            "Hey, ugly.\n",
            "Look at her.\n",
            "- Crazy bitch.\n",
            "- I asked you a question!\n",
            "That's better!\n"
          ],
          "name": "stdout"
        }
      ]
    },
    {
      "cell_type": "code",
      "metadata": {
        "colab": {
          "base_uri": "https://localhost:8080/"
        },
        "id": "nvz_h3o3fIHj",
        "outputId": "3efc64f7-cd5f-42b3-ab75-7a69bfb22e6e"
      },
      "source": [
        "!head -10 OpenSubtitles.en-es.es"
      ],
      "execution_count": null,
      "outputs": [
        {
          "output_type": "stream",
          "text": [
            "La Solitaria\n",
            "Te encanta el curry, ¿no?\n",
            "Te pondré más.\n",
            "¡Eh!\n",
            "¿Está bueno?\n",
            "Eh, fea.\n",
            "Miradla.\n",
            "- Puta loca.\n",
            "- ¡Te he preguntado!\n",
            "¡Así estás mejor!\n"
          ],
          "name": "stdout"
        }
      ]
    },
    {
      "cell_type": "markdown",
      "metadata": {
        "id": "2vKZE-fCfaz-"
      },
      "source": [
        "Arriba puede ver las primeras 10 líneas de frases en EN y ES. Podemos ver que la traducción es correcta."
      ]
    },
    {
      "cell_type": "code",
      "metadata": {
        "colab": {
          "base_uri": "https://localhost:8080/",
          "height": 381
        },
        "id": "ojG6YvApfaYV",
        "outputId": "36f023f6-1e27-4841-bf89-0256a5d25bc0"
      },
      "source": [
        "from tqdm import tqdm\n",
        "import pandas as pd\n",
        "import numpy as np\n",
        "\n",
        "es_file = open('./OpenSubtitles.en-es.es', 'r')\n",
        "en_file = open('./OpenSubtitles.en-es.en', 'r')\n",
        "\n",
        "dataset = {'en': [],'es': []}\n",
        "\n",
        "total_lines = 5000\n",
        "for i in tqdm(range(total_lines), total=total_lines):\n",
        "    es_text = es_file.readline()\n",
        "    en_text = en_file.readline()\n",
        "\n",
        "    if not en_text and not es_text:\n",
        "        # one of file is finished\n",
        "        break\n",
        "\n",
        "    es_text = es_text.strip()\n",
        "    en_text = en_text.strip()\n",
        "    if not en_text or not es_text:\n",
        "        continue\n",
        "\n",
        "    dataset['es'].append(es_text)\n",
        "    dataset['en'].append(en_text)\n",
        "    \n",
        "es_file, en_file = None, None\n",
        "\n",
        "del es_file\n",
        "del en_file\n",
        "\n",
        "df = pd.DataFrame(dataset)\n",
        "df.head(10)"
      ],
      "execution_count": null,
      "outputs": [
        {
          "output_type": "stream",
          "text": [
            "100%|██████████| 5000/5000 [00:00<00:00, 494133.50it/s]\n"
          ],
          "name": "stderr"
        },
        {
          "output_type": "execute_result",
          "data": {
            "text/html": [
              "<div>\n",
              "<style scoped>\n",
              "    .dataframe tbody tr th:only-of-type {\n",
              "        vertical-align: middle;\n",
              "    }\n",
              "\n",
              "    .dataframe tbody tr th {\n",
              "        vertical-align: top;\n",
              "    }\n",
              "\n",
              "    .dataframe thead th {\n",
              "        text-align: right;\n",
              "    }\n",
              "</style>\n",
              "<table border=\"1\" class=\"dataframe\">\n",
              "  <thead>\n",
              "    <tr style=\"text-align: right;\">\n",
              "      <th></th>\n",
              "      <th>en</th>\n",
              "      <th>es</th>\n",
              "    </tr>\n",
              "  </thead>\n",
              "  <tbody>\n",
              "    <tr>\n",
              "      <th>0</th>\n",
              "      <td>The Loner</td>\n",
              "      <td>La Solitaria</td>\n",
              "    </tr>\n",
              "    <tr>\n",
              "      <th>1</th>\n",
              "      <td>You love curry, right?</td>\n",
              "      <td>Te encanta el curry, ¿no?</td>\n",
              "    </tr>\n",
              "    <tr>\n",
              "      <th>2</th>\n",
              "      <td>I'll give you more.</td>\n",
              "      <td>Te pondré más.</td>\n",
              "    </tr>\n",
              "    <tr>\n",
              "      <th>3</th>\n",
              "      <td>Hey!</td>\n",
              "      <td>¡Eh!</td>\n",
              "    </tr>\n",
              "    <tr>\n",
              "      <th>4</th>\n",
              "      <td>Is it good?</td>\n",
              "      <td>¿Está bueno?</td>\n",
              "    </tr>\n",
              "    <tr>\n",
              "      <th>5</th>\n",
              "      <td>Hey, ugly.</td>\n",
              "      <td>Eh, fea.</td>\n",
              "    </tr>\n",
              "    <tr>\n",
              "      <th>6</th>\n",
              "      <td>Look at her.</td>\n",
              "      <td>Miradla.</td>\n",
              "    </tr>\n",
              "    <tr>\n",
              "      <th>7</th>\n",
              "      <td>- Crazy bitch.</td>\n",
              "      <td>- Puta loca.</td>\n",
              "    </tr>\n",
              "    <tr>\n",
              "      <th>8</th>\n",
              "      <td>- I asked you a question!</td>\n",
              "      <td>- ¡Te he preguntado!</td>\n",
              "    </tr>\n",
              "    <tr>\n",
              "      <th>9</th>\n",
              "      <td>That's better!</td>\n",
              "      <td>¡Así estás mejor!</td>\n",
              "    </tr>\n",
              "  </tbody>\n",
              "</table>\n",
              "</div>"
            ],
            "text/plain": [
              "                          en                         es\n",
              "0                  The Loner               La Solitaria\n",
              "1     You love curry, right?  Te encanta el curry, ¿no?\n",
              "2        I'll give you more.             Te pondré más.\n",
              "3                       Hey!                       ¡Eh!\n",
              "4                Is it good?               ¿Está bueno?\n",
              "5                 Hey, ugly.                   Eh, fea.\n",
              "6               Look at her.                   Miradla.\n",
              "7             - Crazy bitch.               - Puta loca.\n",
              "8  - I asked you a question!       - ¡Te he preguntado!\n",
              "9             That's better!          ¡Así estás mejor!"
            ]
          },
          "metadata": {
            "tags": []
          },
          "execution_count": 4
        }
      ]
    },
    {
      "cell_type": "code",
      "metadata": {
        "colab": {
          "base_uri": "https://localhost:8080/"
        },
        "id": "Q-rWMB6-gt6P",
        "outputId": "5a9b667e-8d7e-4498-e9d5-4178ffc08a8a"
      },
      "source": [
        "df.index.values.max()"
      ],
      "execution_count": null,
      "outputs": [
        {
          "output_type": "execute_result",
          "data": {
            "text/plain": [
              "4999"
            ]
          },
          "metadata": {
            "tags": []
          },
          "execution_count": 5
        }
      ]
    },
    {
      "cell_type": "markdown",
      "metadata": {
        "id": "KPgjhGsEkP5r"
      },
      "source": [
        "Agregamos a las oraciones en Español 'START_ ' y '_END'. La razón de esto es que nuestro modelo distinga cuándo comienza y termina la oración. También creamos el vocabulario de todas las palabras en español e inglés."
      ]
    },
    {
      "cell_type": "code",
      "metadata": {
        "id": "XvqnNusozcEp"
      },
      "source": [
        "df.es = df.es.apply(lambda x : 'START_ '+ x + ' _END') ## agrgar 'START_' y '_END' a cada frase"
      ],
      "execution_count": null,
      "outputs": []
    },
    {
      "cell_type": "code",
      "metadata": {
        "colab": {
          "base_uri": "https://localhost:8080/",
          "height": 206
        },
        "id": "g6rl0sBTzfkn",
        "outputId": "7ead3f6b-8438-42a3-a2ba-cc473199116d"
      },
      "source": [
        "df.head(5)"
      ],
      "execution_count": null,
      "outputs": [
        {
          "output_type": "execute_result",
          "data": {
            "text/html": [
              "<div>\n",
              "<style scoped>\n",
              "    .dataframe tbody tr th:only-of-type {\n",
              "        vertical-align: middle;\n",
              "    }\n",
              "\n",
              "    .dataframe tbody tr th {\n",
              "        vertical-align: top;\n",
              "    }\n",
              "\n",
              "    .dataframe thead th {\n",
              "        text-align: right;\n",
              "    }\n",
              "</style>\n",
              "<table border=\"1\" class=\"dataframe\">\n",
              "  <thead>\n",
              "    <tr style=\"text-align: right;\">\n",
              "      <th></th>\n",
              "      <th>en</th>\n",
              "      <th>es</th>\n",
              "    </tr>\n",
              "  </thead>\n",
              "  <tbody>\n",
              "    <tr>\n",
              "      <th>0</th>\n",
              "      <td>The Loner</td>\n",
              "      <td>START_ La Solitaria _END</td>\n",
              "    </tr>\n",
              "    <tr>\n",
              "      <th>1</th>\n",
              "      <td>You love curry, right?</td>\n",
              "      <td>START_ Te encanta el curry, ¿no? _END</td>\n",
              "    </tr>\n",
              "    <tr>\n",
              "      <th>2</th>\n",
              "      <td>I'll give you more.</td>\n",
              "      <td>START_ Te pondré más. _END</td>\n",
              "    </tr>\n",
              "    <tr>\n",
              "      <th>3</th>\n",
              "      <td>Hey!</td>\n",
              "      <td>START_ ¡Eh! _END</td>\n",
              "    </tr>\n",
              "    <tr>\n",
              "      <th>4</th>\n",
              "      <td>Is it good?</td>\n",
              "      <td>START_ ¿Está bueno? _END</td>\n",
              "    </tr>\n",
              "  </tbody>\n",
              "</table>\n",
              "</div>"
            ],
            "text/plain": [
              "                       en                                     es\n",
              "0               The Loner               START_ La Solitaria _END\n",
              "1  You love curry, right?  START_ Te encanta el curry, ¿no? _END\n",
              "2     I'll give you more.             START_ Te pondré más. _END\n",
              "3                    Hey!                       START_ ¡Eh! _END\n",
              "4             Is it good?               START_ ¿Está bueno? _END"
            ]
          },
          "metadata": {
            "tags": []
          },
          "execution_count": 7
        }
      ]
    },
    {
      "cell_type": "code",
      "metadata": {
        "colab": {
          "base_uri": "https://localhost:8080/"
        },
        "id": "n4Ln8Km-_ZaU",
        "outputId": "12df733f-0875-47cb-a18e-5f17f555db78"
      },
      "source": [
        "df.es[df.sample().index.values[0]].split()"
      ],
      "execution_count": null,
      "outputs": [
        {
          "output_type": "execute_result",
          "data": {
            "text/plain": [
              "['START_',\n",
              " '-',\n",
              " 'Creo...',\n",
              " 'que',\n",
              " 'sólo',\n",
              " 'está',\n",
              " 'fingiendo',\n",
              " 'ser',\n",
              " 'retrasada.',\n",
              " '_END']"
            ]
          },
          "metadata": {
            "tags": []
          },
          "execution_count": 9
        }
      ]
    },
    {
      "cell_type": "markdown",
      "metadata": {
        "id": "TJIqYTvYQDnj"
      },
      "source": [
        "Ahora construyamos los conjuntos **input_words** y **target_words** con todas la palabras que aparecen en las frases de ingles y su traducción al español respectivamente."
      ]
    },
    {
      "cell_type": "code",
      "metadata": {
        "id": "_zJCYqYKiyH2"
      },
      "source": [
        "lenght_en = [] ## lista de cantidades de palabras por frase en ingles \n",
        "all_en_words=set() ## conjunto de todas las palabras en ingles\n",
        "for en in df.en:\n",
        "  count = 0\n",
        "  for word in en.split():\n",
        "    count +=1 \n",
        "    if word not in all_en_words: ## No repetir palabras\n",
        "      all_en_words.add(word)\n",
        "  lenght_en.append(count)    \n",
        "\n",
        "\n",
        "lenght_es = [] ## lista de cantidad de palabras por frase en español   \n",
        "all_es_words=set() ## conjunto de todas las palabras en español\n",
        "for es in df.es:\n",
        "  count = 0\n",
        "  for word in es.split():\n",
        "    count +=1 \n",
        "    if word not in all_es_words:\n",
        "      all_es_words.add(word)\n",
        "  lenght_es.append(count)\n",
        "\n",
        "\n",
        "input_words = sorted(list(all_en_words))\n",
        "target_words = sorted(list(all_es_words))\n",
        "\n",
        "num_encoder_tokens = len(all_en_words) ## número de palabras en Ingles\n",
        "num_decoder_tokens = len(all_es_words) ## número de palabras en español \n",
        "\n",
        "## número maximo de palabras por frase en cada idioma\n",
        "max_lenght_en = np.max(lenght_en) \n",
        "max_lenght_es = np.max(lenght_es)"
      ],
      "execution_count": null,
      "outputs": []
    },
    {
      "cell_type": "markdown",
      "metadata": {
        "id": "bZ7l0wdn2BVF"
      },
      "source": [
        "Codificamos cada token (palabra) como un entero. A cada palabra le asignamos un valor diferente. Esto paara cada sequencia."
      ]
    },
    {
      "cell_type": "code",
      "metadata": {
        "id": "oHSprCrxypCb"
      },
      "source": [
        "input_token_index  = dict([(words, i) for i, words in enumerate(input_words)])\n",
        "target_token_index = dict([(words, i) for i, words in enumerate(target_words)])"
      ],
      "execution_count": null,
      "outputs": []
    },
    {
      "cell_type": "code",
      "metadata": {
        "colab": {
          "base_uri": "https://localhost:8080/"
        },
        "id": "NahiJLpTon91",
        "outputId": "25dc8ff1-4cbe-4546-d7a3-db5f809becd1"
      },
      "source": [
        "print(f'Número de palabras en el idioma fuente (Ingles): {num_encoder_tokens}')\n",
        "print(f'Número de palabras en el idioma objetivo (Español): {num_decoder_tokens}')"
      ],
      "execution_count": null,
      "outputs": [
        {
          "output_type": "stream",
          "text": [
            "Número de palabras en el idioma fuente (Ingles): 8464\n",
            "Número de palabras en el idioma objetivo (Español): 9544\n"
          ],
          "name": "stdout"
        }
      ]
    },
    {
      "cell_type": "code",
      "metadata": {
        "colab": {
          "base_uri": "https://localhost:8080/"
        },
        "id": "7TShvgGOtPTH",
        "outputId": "48e928f5-fe35-4bc9-8365-f6085c323175"
      },
      "source": [
        "print('Número máxima de palabras por frase en el idioma fuente:', max_lenght_en)\n",
        "print('Numero máxima de palabras por frase en el idioma destino:', max_lenght_es)"
      ],
      "execution_count": null,
      "outputs": [
        {
          "output_type": "stream",
          "text": [
            "Número máxima de palabras por frase en el idioma fuente: 55\n",
            "Numero máxima de palabras por frase en el idioma destino: 55\n"
          ],
          "name": "stdout"
        }
      ]
    },
    {
      "cell_type": "code",
      "metadata": {
        "colab": {
          "base_uri": "https://localhost:8080/"
        },
        "id": "0p7yo0hIl8cH",
        "outputId": "9fd16f32-6a85-47bc-8181-b9f12eba09de"
      },
      "source": [
        "print(f'Muestras del conjunto (Set) de palabras que conforman las sentencias de entrada: \\n{input_words[0:15]} ')\n",
        "print(f'{input_words[15:25]} \\n')\n",
        "    \n",
        "print(f'\\n Muestras del conjunto (Set) de palabras que conforman las sentencias objetivo: \\n{target_words[0:15]}')\n",
        "print(f'{target_words[15:25]} \\n')"
      ],
      "execution_count": null,
      "outputs": [
        {
          "output_type": "stream",
          "text": [
            "Muestras del conjunto (Set) de palabras que conforman las sentencias de entrada: \n",
            "['!', '\"', '\"0n', '\"0ne', '\"A', '\"All', '\"Am', '\"And', '\"At', '\"Black', '\"But', '\"By', '\"Come', '\"Conquista\".', '\"Conquistadors\".'] \n",
            "['\"Cross', '\"Dance.\"', '\"Don\\'t', '\"El', '\"Few', '\"Firstly,', '\"For', '\"Friends', '\"Give', '\"He'] \n",
            "\n",
            "\n",
            " Muestras del conjunto (Set) de palabras que conforman las sentencias objetivo: \n",
            "['!', '\"', '\"1', '\"245-3,', '\"A', '\"Acá,', '\"Al', '\"Amigos', '\"Amor', '\"Aseguraos', '\"Atravesamos', '\"Aunque', '\"Bailen\".', '\"Blanco', '\"Bueno,']\n",
            "['\"Como', '\"Compartimos', '\"Con', '\"Cuando', '\"De', '\"Deseo', '\"Durante', '\"Eh,', '\"El', '\"En'] \n",
            "\n"
          ],
          "name": "stdout"
        }
      ]
    },
    {
      "cell_type": "markdown",
      "metadata": {
        "id": "T3hq86MOsXe9"
      },
      "source": [
        "Los datos de entrada del codificador **encoder_input_data** serán  arreglos de $\\left(num\\_frases, max\\_leght\\_en\\right)$ que reprecentan cada frase en inglés mediante un índice de palabras en el vocabulario. \n",
        "\n",
        "Análogamente los datos de entrada del decodificador **decoder_input_data** serán arreglos de  $\\left(num\\_frases, max\\_leght\\_es\\right)$ que reprecentan un índice de palabras en español. \n",
        "\n",
        "**decoder_target_data** será un arreglo tridimensional de $\\left(num\\_frases,\\, max\\_lenght\\_es,\\, num\\_decoder\\_tokens\\right)$ de $0$ y $1$"
      ]
    },
    {
      "cell_type": "code",
      "metadata": {
        "id": "TqxSZ1tpRb8W"
      },
      "source": [
        "encoder_input_data = np.zeros(\n",
        "    (len(df.en), max_lenght_en),\n",
        "    dtype='float32')\n",
        "decoder_input_data = np.zeros(\n",
        "    (len(df.es), max_lenght_es),\n",
        "    dtype='float32')\n",
        "decoder_target_data = np.zeros(\n",
        "    (len(df.es), max_lenght_es, num_decoder_tokens),\n",
        "    dtype='float32')\n",
        "\n",
        "# generar datos\n",
        "for i, (input_text, target_text) in enumerate(zip(df.en, df.es)):\n",
        "    for t, word in enumerate(input_text.split()):\n",
        "        encoder_input_data[i, t] = input_token_index[word]\n",
        "    for t, word in enumerate(target_text.split()):\n",
        "        \n",
        "        decoder_input_data[i, t] = target_token_index[word]\n",
        "        if t > 0:\n",
        "            decoder_target_data[i, t - 1, target_token_index[word]] = 1."
      ],
      "execution_count": null,
      "outputs": []
    },
    {
      "cell_type": "markdown",
      "metadata": {
        "id": "M2cGrLRqSxiB"
      },
      "source": [
        "La implementación sigue como la vista en clases"
      ]
    },
    {
      "cell_type": "code",
      "metadata": {
        "id": "QvFUgiexTQjC"
      },
      "source": [
        "embedding_size = 1024 ## espacio latente\n",
        "\n",
        "from keras.layers import Input, LSTM, Embedding, Dense\n",
        "from keras.models import Model\n",
        "from keras.utils.vis_utils import plot_model\n",
        "\n",
        "encoder_inputs = Input(shape=(None,))\n",
        "\n",
        "\n",
        "en_x=  Embedding(num_encoder_tokens, embedding_size)(encoder_inputs)\n",
        "\n",
        "\n",
        "encoder = LSTM(embedding_size, return_state=True)\n",
        "encoder_outputs, state_h, state_c = encoder(en_x)\n",
        "\n",
        "encoder_states = [state_h, state_c]\n",
        "\n",
        "decoder_inputs = Input(shape=(None,))\n",
        "\n",
        "dex=  Embedding(num_decoder_tokens, embedding_size)\n",
        "final_dex= dex(decoder_inputs)\n",
        "\n",
        "decoder_lstm = LSTM(embedding_size, return_sequences=True, return_state=True)\n",
        "decoder_outputs, _, _ = decoder_lstm(final_dex, initial_state=encoder_states)\n",
        "decoder_dense = Dense(num_decoder_tokens, activation='softmax')\n",
        "decoder_outputs = decoder_dense(decoder_outputs)\n",
        "\n",
        "model = Model([encoder_inputs, decoder_inputs], decoder_outputs)\n",
        "model.compile(optimizer='rmsprop', loss='categorical_crossentropy', metrics=['acc'])"
      ],
      "execution_count": null,
      "outputs": []
    },
    {
      "cell_type": "code",
      "metadata": {
        "colab": {
          "base_uri": "https://localhost:8080/",
          "height": 533
        },
        "id": "CNYBfm_BafA7",
        "outputId": "956efb2a-39a1-48e7-83c0-9c2151a7ce24"
      },
      "source": [
        "plot_model(model, show_shapes=True)"
      ],
      "execution_count": null,
      "outputs": [
        {
          "output_type": "execute_result",
          "data": {
            "image/png": "[encoded data removed]",
            "text/plain": [
              "<IPython.core.display.Image object>"
            ]
          },
          "metadata": {
            "tags": []
          },
          "execution_count": 19
        }
      ]
    },
    {
      "cell_type": "code",
      "metadata": {
        "colab": {
          "base_uri": "https://localhost:8080/"
        },
        "id": "Bg0qtvZNT8Sn",
        "outputId": "207d86f1-402f-426b-8bae-b3bbdc288c28"
      },
      "source": [
        "from tensorflow.keras.callbacks import EarlyStopping, ModelCheckpoint, TensorBoard\n",
        "\n",
        "\n",
        "model.fit(x = [encoder_input_data, \n",
        "           decoder_input_data], \n",
        "          y = decoder_target_data,\n",
        "          batch_size=64,\n",
        "          epochs=100,\n",
        "          validation_split=0.20)"
      ],
      "execution_count": null,
      "outputs": [
        {
          "output_type": "stream",
          "text": [
            "Epoch 1/100\n",
            "63/63 [==============================] - 15s 235ms/step - loss: 0.0730 - acc: 0.1163 - val_loss: 2.8644 - val_acc: 0.0173\n",
            "Epoch 2/100\n",
            "63/63 [==============================] - 15s 233ms/step - loss: 0.0710 - acc: 0.1167 - val_loss: 2.8597 - val_acc: 0.0178\n",
            "Epoch 3/100\n",
            "63/63 [==============================] - 15s 233ms/step - loss: 0.0686 - acc: 0.1175 - val_loss: 2.8653 - val_acc: 0.0174\n",
            "Epoch 4/100\n",
            "63/63 [==============================] - 15s 233ms/step - loss: 0.0670 - acc: 0.1177 - val_loss: 2.8683 - val_acc: 0.0167\n",
            "Epoch 5/100\n",
            "63/63 [==============================] - 15s 233ms/step - loss: 0.0649 - acc: 0.1181 - val_loss: 2.8912 - val_acc: 0.0174\n",
            "Epoch 6/100\n",
            "63/63 [==============================] - 15s 231ms/step - loss: 0.0628 - acc: 0.1186 - val_loss: 2.8868 - val_acc: 0.0176\n",
            "Epoch 7/100\n",
            "63/63 [==============================] - 15s 231ms/step - loss: 0.0605 - acc: 0.1193 - val_loss: 2.9067 - val_acc: 0.0165\n",
            "Epoch 8/100\n",
            "63/63 [==============================] - 15s 231ms/step - loss: 0.0598 - acc: 0.1194 - val_loss: 2.8823 - val_acc: 0.0168\n",
            "Epoch 9/100\n",
            "63/63 [==============================] - 15s 234ms/step - loss: 0.0578 - acc: 0.1198 - val_loss: 2.9295 - val_acc: 0.0163\n",
            "Epoch 10/100\n",
            "63/63 [==============================] - 15s 232ms/step - loss: 0.0563 - acc: 0.1200 - val_loss: 2.9143 - val_acc: 0.0163\n",
            "Epoch 11/100\n",
            "63/63 [==============================] - 15s 232ms/step - loss: 0.0543 - acc: 0.1205 - val_loss: 2.9218 - val_acc: 0.0169\n",
            "Epoch 12/100\n",
            "63/63 [==============================] - 15s 233ms/step - loss: 0.0538 - acc: 0.1205 - val_loss: 2.9288 - val_acc: 0.0171\n",
            "Epoch 13/100\n",
            "63/63 [==============================] - 14s 230ms/step - loss: 0.0519 - acc: 0.1210 - val_loss: 2.9704 - val_acc: 0.0171\n",
            "Epoch 14/100\n",
            "63/63 [==============================] - 15s 232ms/step - loss: 0.0501 - acc: 0.1212 - val_loss: 2.9380 - val_acc: 0.0170\n",
            "Epoch 15/100\n",
            "63/63 [==============================] - 15s 231ms/step - loss: 0.0490 - acc: 0.1216 - val_loss: 2.9261 - val_acc: 0.0172\n",
            "Epoch 16/100\n",
            "63/63 [==============================] - 15s 233ms/step - loss: 0.0479 - acc: 0.1217 - val_loss: 2.9654 - val_acc: 0.0169\n",
            "Epoch 17/100\n",
            "63/63 [==============================] - 15s 232ms/step - loss: 0.0465 - acc: 0.1221 - val_loss: 2.9526 - val_acc: 0.0169\n",
            "Epoch 18/100\n",
            "63/63 [==============================] - 15s 232ms/step - loss: 0.0451 - acc: 0.1221 - val_loss: 2.9597 - val_acc: 0.0167\n",
            "Epoch 19/100\n",
            "63/63 [==============================] - 14s 230ms/step - loss: 0.0444 - acc: 0.1223 - val_loss: 2.9639 - val_acc: 0.0162\n",
            "Epoch 20/100\n",
            "63/63 [==============================] - 15s 231ms/step - loss: 0.0431 - acc: 0.1226 - val_loss: 2.9742 - val_acc: 0.0166\n",
            "Epoch 21/100\n",
            "63/63 [==============================] - 15s 233ms/step - loss: 0.0420 - acc: 0.1226 - val_loss: 2.9780 - val_acc: 0.0168\n",
            "Epoch 22/100\n",
            "63/63 [==============================] - 15s 233ms/step - loss: 0.0410 - acc: 0.1229 - val_loss: 2.9924 - val_acc: 0.0161\n",
            "Epoch 23/100\n",
            "63/63 [==============================] - 15s 231ms/step - loss: 0.0401 - acc: 0.1229 - val_loss: 2.9709 - val_acc: 0.0164\n",
            "Epoch 24/100\n",
            "63/63 [==============================] - 15s 232ms/step - loss: 0.0389 - acc: 0.1233 - val_loss: 2.9832 - val_acc: 0.0165\n",
            "Epoch 25/100\n",
            "63/63 [==============================] - 14s 230ms/step - loss: 0.0381 - acc: 0.1233 - val_loss: 3.0179 - val_acc: 0.0165\n",
            "Epoch 26/100\n",
            "63/63 [==============================] - 15s 231ms/step - loss: 0.0371 - acc: 0.1233 - val_loss: 3.0375 - val_acc: 0.0160\n",
            "Epoch 27/100\n",
            "63/63 [==============================] - 14s 229ms/step - loss: 0.0360 - acc: 0.1236 - val_loss: 3.0165 - val_acc: 0.0162\n",
            "Epoch 28/100\n",
            "63/63 [==============================] - 15s 231ms/step - loss: 0.0353 - acc: 0.1236 - val_loss: 2.9920 - val_acc: 0.0163\n",
            "Epoch 29/100\n",
            "63/63 [==============================] - 14s 230ms/step - loss: 0.0347 - acc: 0.1238 - val_loss: 3.0468 - val_acc: 0.0163\n",
            "Epoch 30/100\n",
            "63/63 [==============================] - 14s 229ms/step - loss: 0.0342 - acc: 0.1238 - val_loss: 3.0263 - val_acc: 0.0163\n",
            "Epoch 31/100\n",
            "63/63 [==============================] - 15s 231ms/step - loss: 0.0334 - acc: 0.1237 - val_loss: 3.0335 - val_acc: 0.0161\n",
            "Epoch 32/100\n",
            "63/63 [==============================] - 15s 231ms/step - loss: 0.0324 - acc: 0.1240 - val_loss: 3.0212 - val_acc: 0.0166\n",
            "Epoch 33/100\n",
            "63/63 [==============================] - 15s 231ms/step - loss: 0.0315 - acc: 0.1241 - val_loss: 3.0356 - val_acc: 0.0161\n",
            "Epoch 34/100\n",
            "63/63 [==============================] - 14s 229ms/step - loss: 0.0310 - acc: 0.1242 - val_loss: 3.0361 - val_acc: 0.0163\n",
            "Epoch 35/100\n",
            "63/63 [==============================] - 14s 230ms/step - loss: 0.0302 - acc: 0.1243 - val_loss: 3.0427 - val_acc: 0.0157\n",
            "Epoch 36/100\n",
            "63/63 [==============================] - 14s 230ms/step - loss: 0.0299 - acc: 0.1242 - val_loss: 3.0467 - val_acc: 0.0163\n",
            "Epoch 37/100\n",
            "63/63 [==============================] - 14s 229ms/step - loss: 0.0295 - acc: 0.1244 - val_loss: 3.0484 - val_acc: 0.0157\n",
            "Epoch 38/100\n",
            "63/63 [==============================] - 15s 231ms/step - loss: 0.0283 - acc: 0.1244 - val_loss: 3.0584 - val_acc: 0.0160\n",
            "Epoch 39/100\n",
            "63/63 [==============================] - 14s 230ms/step - loss: 0.0277 - acc: 0.1246 - val_loss: 3.0574 - val_acc: 0.0163\n",
            "Epoch 40/100\n",
            "63/63 [==============================] - 14s 230ms/step - loss: 0.0278 - acc: 0.1245 - val_loss: 3.0261 - val_acc: 0.0167\n",
            "Epoch 41/100\n",
            "63/63 [==============================] - 15s 231ms/step - loss: 0.0269 - acc: 0.1246 - val_loss: 3.0849 - val_acc: 0.0155\n",
            "Epoch 42/100\n",
            "63/63 [==============================] - 14s 230ms/step - loss: 0.0265 - acc: 0.1247 - val_loss: 3.0498 - val_acc: 0.0159\n",
            "Epoch 43/100\n",
            "63/63 [==============================] - 15s 232ms/step - loss: 0.0257 - acc: 0.1248 - val_loss: 3.0383 - val_acc: 0.0164\n",
            "Epoch 44/100\n",
            "63/63 [==============================] - 14s 230ms/step - loss: 0.0257 - acc: 0.1248 - val_loss: 3.0571 - val_acc: 0.0158\n",
            "Epoch 45/100\n",
            "63/63 [==============================] - 15s 232ms/step - loss: 0.0249 - acc: 0.1248 - val_loss: 3.0919 - val_acc: 0.0153\n",
            "Epoch 46/100\n",
            "63/63 [==============================] - 15s 231ms/step - loss: 0.0248 - acc: 0.1249 - val_loss: 3.0555 - val_acc: 0.0164\n",
            "Epoch 47/100\n",
            "63/63 [==============================] - 15s 232ms/step - loss: 0.0241 - acc: 0.1249 - val_loss: 3.0614 - val_acc: 0.0157\n",
            "Epoch 48/100\n",
            "63/63 [==============================] - 14s 228ms/step - loss: 0.0234 - acc: 0.1249 - val_loss: 3.0630 - val_acc: 0.0160\n",
            "Epoch 49/100\n",
            "63/63 [==============================] - 14s 226ms/step - loss: 0.0230 - acc: 0.1250 - val_loss: 3.0626 - val_acc: 0.0161\n",
            "Epoch 50/100\n",
            "63/63 [==============================] - 14s 228ms/step - loss: 0.0231 - acc: 0.1249 - val_loss: 3.0758 - val_acc: 0.0161\n",
            "Epoch 51/100\n",
            "63/63 [==============================] - 14s 227ms/step - loss: 0.0226 - acc: 0.1249 - val_loss: 3.0791 - val_acc: 0.0154\n",
            "Epoch 52/100\n",
            "63/63 [==============================] - 14s 229ms/step - loss: 0.0223 - acc: 0.1250 - val_loss: 3.0927 - val_acc: 0.0155\n",
            "Epoch 53/100\n",
            "63/63 [==============================] - 14s 230ms/step - loss: 0.0218 - acc: 0.1250 - val_loss: 3.0786 - val_acc: 0.0159\n",
            "Epoch 54/100\n",
            "63/63 [==============================] - 14s 230ms/step - loss: 0.0213 - acc: 0.1251 - val_loss: 3.0654 - val_acc: 0.0161\n",
            "Epoch 55/100\n",
            "63/63 [==============================] - 14s 230ms/step - loss: 0.0212 - acc: 0.1251 - val_loss: 3.1010 - val_acc: 0.0157\n",
            "Epoch 56/100\n",
            "63/63 [==============================] - 15s 233ms/step - loss: 0.0208 - acc: 0.1251 - val_loss: 3.0720 - val_acc: 0.0156\n",
            "Epoch 57/100\n",
            "63/63 [==============================] - 15s 232ms/step - loss: 0.0205 - acc: 0.1251 - val_loss: 3.0824 - val_acc: 0.0158\n",
            "Epoch 58/100\n",
            "63/63 [==============================] - 14s 229ms/step - loss: 0.0199 - acc: 0.1252 - val_loss: 3.0690 - val_acc: 0.0161\n",
            "Epoch 59/100\n",
            "63/63 [==============================] - 15s 233ms/step - loss: 0.0201 - acc: 0.1252 - val_loss: 3.1016 - val_acc: 0.0159\n",
            "Epoch 60/100\n",
            "63/63 [==============================] - 15s 232ms/step - loss: 0.0196 - acc: 0.1253 - val_loss: 3.0567 - val_acc: 0.0157\n",
            "Epoch 61/100\n",
            "63/63 [==============================] - 14s 229ms/step - loss: 0.0190 - acc: 0.1252 - val_loss: 3.0972 - val_acc: 0.0154\n",
            "Epoch 62/100\n",
            "63/63 [==============================] - 15s 231ms/step - loss: 0.0189 - acc: 0.1253 - val_loss: 3.0609 - val_acc: 0.0166\n",
            "Epoch 63/100\n",
            "63/63 [==============================] - 15s 231ms/step - loss: 0.0190 - acc: 0.1253 - val_loss: 3.0842 - val_acc: 0.0159\n",
            "Epoch 64/100\n",
            "63/63 [==============================] - 15s 231ms/step - loss: 0.0184 - acc: 0.1253 - val_loss: 3.0597 - val_acc: 0.0163\n",
            "Epoch 65/100\n",
            "63/63 [==============================] - 14s 229ms/step - loss: 0.0180 - acc: 0.1254 - val_loss: 3.1021 - val_acc: 0.0161\n",
            "Epoch 66/100\n",
            "63/63 [==============================] - 14s 229ms/step - loss: 0.0178 - acc: 0.1254 - val_loss: 3.0807 - val_acc: 0.0157\n",
            "Epoch 67/100\n",
            "63/63 [==============================] - 14s 228ms/step - loss: 0.0179 - acc: 0.1253 - val_loss: 3.0784 - val_acc: 0.0155\n",
            "Epoch 68/100\n",
            "63/63 [==============================] - 14s 230ms/step - loss: 0.0174 - acc: 0.1253 - val_loss: 3.0992 - val_acc: 0.0161\n",
            "Epoch 69/100\n",
            "63/63 [==============================] - 14s 230ms/step - loss: 0.0171 - acc: 0.1254 - val_loss: 3.0828 - val_acc: 0.0156\n",
            "Epoch 70/100\n",
            "63/63 [==============================] - 14s 229ms/step - loss: 0.0175 - acc: 0.1253 - val_loss: 3.0930 - val_acc: 0.0159\n",
            "Epoch 71/100\n",
            "63/63 [==============================] - 14s 230ms/step - loss: 0.0166 - acc: 0.1254 - val_loss: 3.0807 - val_acc: 0.0159\n",
            "Epoch 72/100\n",
            "63/63 [==============================] - 15s 231ms/step - loss: 0.0165 - acc: 0.1255 - val_loss: 3.1202 - val_acc: 0.0155\n",
            "Epoch 73/100\n",
            "63/63 [==============================] - 15s 231ms/step - loss: 0.0162 - acc: 0.1255 - val_loss: 3.1040 - val_acc: 0.0150\n",
            "Epoch 74/100\n",
            "63/63 [==============================] - 14s 228ms/step - loss: 0.0160 - acc: 0.1255 - val_loss: 3.1030 - val_acc: 0.0154\n",
            "Epoch 75/100\n",
            "63/63 [==============================] - 15s 231ms/step - loss: 0.0161 - acc: 0.1255 - val_loss: 3.0931 - val_acc: 0.0155\n",
            "Epoch 76/100\n",
            "63/63 [==============================] - 14s 230ms/step - loss: 0.0155 - acc: 0.1255 - val_loss: 3.1005 - val_acc: 0.0155\n",
            "Epoch 77/100\n",
            "63/63 [==============================] - 14s 228ms/step - loss: 0.0155 - acc: 0.1254 - val_loss: 3.0987 - val_acc: 0.0158\n",
            "Epoch 78/100\n",
            "63/63 [==============================] - 15s 231ms/step - loss: 0.0152 - acc: 0.1255 - val_loss: 3.0900 - val_acc: 0.0157\n",
            "Epoch 79/100\n",
            "63/63 [==============================] - 14s 229ms/step - loss: 0.0150 - acc: 0.1255 - val_loss: 3.1214 - val_acc: 0.0156\n",
            "Epoch 80/100\n",
            "63/63 [==============================] - 14s 228ms/step - loss: 0.0154 - acc: 0.1253 - val_loss: 3.0679 - val_acc: 0.0159\n",
            "Epoch 81/100\n",
            "63/63 [==============================] - 14s 230ms/step - loss: 0.0149 - acc: 0.1255 - val_loss: 3.1273 - val_acc: 0.0154\n",
            "Epoch 82/100\n",
            "63/63 [==============================] - 14s 230ms/step - loss: 0.0146 - acc: 0.1256 - val_loss: 3.1122 - val_acc: 0.0153\n",
            "Epoch 83/100\n",
            "63/63 [==============================] - 14s 229ms/step - loss: 0.0148 - acc: 0.1255 - val_loss: 3.0891 - val_acc: 0.0156\n",
            "Epoch 84/100\n",
            "63/63 [==============================] - 14s 228ms/step - loss: 0.0143 - acc: 0.1256 - val_loss: 3.1008 - val_acc: 0.0154\n",
            "Epoch 85/100\n",
            "63/63 [==============================] - 14s 228ms/step - loss: 0.0141 - acc: 0.1256 - val_loss: 3.1246 - val_acc: 0.0146\n",
            "Epoch 86/100\n",
            "63/63 [==============================] - 14s 227ms/step - loss: 0.0141 - acc: 0.1256 - val_loss: 3.0944 - val_acc: 0.0155\n",
            "Epoch 87/100\n",
            "63/63 [==============================] - 14s 229ms/step - loss: 0.0141 - acc: 0.1256 - val_loss: 3.1109 - val_acc: 0.0153\n",
            "Epoch 88/100\n",
            "63/63 [==============================] - 14s 228ms/step - loss: 0.0142 - acc: 0.1256 - val_loss: 3.0989 - val_acc: 0.0153\n",
            "Epoch 89/100\n",
            "63/63 [==============================] - 14s 228ms/step - loss: 0.0138 - acc: 0.1256 - val_loss: 3.1281 - val_acc: 0.0154\n",
            "Epoch 90/100\n",
            "63/63 [==============================] - 14s 230ms/step - loss: 0.0137 - acc: 0.1256 - val_loss: 3.1171 - val_acc: 0.0154\n",
            "Epoch 91/100\n",
            "63/63 [==============================] - 14s 231ms/step - loss: 0.0131 - acc: 0.1256 - val_loss: 3.1035 - val_acc: 0.0160\n",
            "Epoch 92/100\n",
            "63/63 [==============================] - 14s 230ms/step - loss: 0.0132 - acc: 0.1256 - val_loss: 3.1114 - val_acc: 0.0155\n",
            "Epoch 93/100\n",
            "63/63 [==============================] - 14s 228ms/step - loss: 0.0130 - acc: 0.1256 - val_loss: 3.0998 - val_acc: 0.0161\n",
            "Epoch 94/100\n",
            "63/63 [==============================] - 14s 229ms/step - loss: 0.0130 - acc: 0.1256 - val_loss: 3.1150 - val_acc: 0.0151\n",
            "Epoch 95/100\n",
            "63/63 [==============================] - 14s 229ms/step - loss: 0.0126 - acc: 0.1257 - val_loss: 3.1198 - val_acc: 0.0155\n",
            "Epoch 96/100\n",
            "63/63 [==============================] - 14s 230ms/step - loss: 0.0127 - acc: 0.1256 - val_loss: 3.1321 - val_acc: 0.0153\n",
            "Epoch 97/100\n",
            "63/63 [==============================] - 14s 230ms/step - loss: 0.0127 - acc: 0.1256 - val_loss: 3.1274 - val_acc: 0.0155\n",
            "Epoch 98/100\n",
            "63/63 [==============================] - 14s 229ms/step - loss: 0.0123 - acc: 0.1257 - val_loss: 3.1049 - val_acc: 0.0158\n",
            "Epoch 99/100\n",
            "63/63 [==============================] - 14s 230ms/step - loss: 0.0122 - acc: 0.1257 - val_loss: 3.1120 - val_acc: 0.0154\n",
            "Epoch 100/100\n",
            "63/63 [==============================] - 14s 228ms/step - loss: 0.0125 - acc: 0.1256 - val_loss: 3.1001 - val_acc: 0.0155\n"
          ],
          "name": "stdout"
        },
        {
          "output_type": "execute_result",
          "data": {
            "text/plain": [
              "<keras.callbacks.History at 0x7f881e564f50>"
            ]
          },
          "metadata": {
            "tags": []
          },
          "execution_count": 47
        }
      ]
    },
    {
      "cell_type": "code",
      "metadata": {
        "id": "sE8aMBkYXuCW"
      },
      "source": [
        "model.save('seq2seq_en_es.h5')"
      ],
      "execution_count": null,
      "outputs": []
    },
    {
      "cell_type": "code",
      "metadata": {
        "colab": {
          "base_uri": "https://localhost:8080/"
        },
        "id": "SzS00B6-UEDU",
        "outputId": "13a19e3e-df40-41fe-c7a0-738773b2fee4"
      },
      "source": [
        "# define the encoder model \n",
        "encoder_model = Model(encoder_inputs, encoder_states)\n",
        "encoder_model.summary()\n",
        "\n",
        "# Redefine the decoder model with decoder will be getting below inputs from encoder while in prediction\n",
        "decoder_state_input_h = Input(shape=(embedding_size,))\n",
        "decoder_state_input_c = Input(shape=(embedding_size,))\n",
        "\n",
        "decoder_states_inputs = [decoder_state_input_h, decoder_state_input_c]\n",
        "final_dex2= dex(decoder_inputs)\n",
        "decoder_outputs2, state_h2, state_c2 = decoder_lstm(final_dex2, initial_state=decoder_states_inputs)\n",
        "decoder_states2 = [state_h2, state_c2]\n",
        "decoder_outputs2 = decoder_dense(decoder_outputs2)\n",
        "\n",
        "# sampling model will take encoder states and decoder_input(seed initially) and output the predictions(french word index) We dont care about decoder_states2\n",
        "decoder_model = Model(\n",
        "    [decoder_inputs] + decoder_states_inputs,\n",
        "    [decoder_outputs2] + decoder_states2)\n",
        "\n",
        "# Reverse-lookup token index to decode sequences back to\n",
        "# something readable.\n",
        "reverse_input_char_index = dict( (i, char) for char, i in input_token_index.items())\n",
        "reverse_target_char_index = dict( (i, char) for char, i in target_token_index.items())\n"
      ],
      "execution_count": null,
      "outputs": [
        {
          "output_type": "stream",
          "text": [
            "Model: \"model_14\"\n",
            "_________________________________________________________________\n",
            "Layer (type)                 Output Shape              Param #   \n",
            "=================================================================\n",
            "input_3 (InputLayer)         [(None, None)]            0         \n",
            "_________________________________________________________________\n",
            "embedding_2 (Embedding)      (None, None, 1024)        8667136   \n",
            "_________________________________________________________________\n",
            "lstm_2 (LSTM)                [(None, 1024), (None, 102 8392704   \n",
            "=================================================================\n",
            "Total params: 17,059,840\n",
            "Trainable params: 17,059,840\n",
            "Non-trainable params: 0\n",
            "_________________________________________________________________\n"
          ],
          "name": "stdout"
        }
      ]
    },
    {
      "cell_type": "code",
      "metadata": {
        "id": "4oNbQ6WvWpT6"
      },
      "source": [
        "def decode_sequence(input_seq):\n",
        "    # Encode the input as state vectors.\n",
        "    states_value = encoder_model.predict(input_seq)\n",
        "    # Generate empty target sequence of length 1.\n",
        "    target_seq = np.zeros((1,1))\n",
        "    # Populate the first character of target sequence with the start character.\n",
        "    target_seq[0, 0] = target_token_index['START_']\n",
        "    # Sampling loop for a batch of sequences\n",
        "    # (to simplify, here we assume a batch of size 1).\n",
        "    stop_condition = False\n",
        "    decoded_sentence = ''\n",
        "    while not stop_condition:\n",
        "        output_tokens, h, c = decoder_model.predict(\n",
        "            [target_seq] + states_value)\n",
        "        # Sample a token\n",
        "        sampled_token_index = np.argmax(output_tokens[0, -1, :])\n",
        "        sampled_char = reverse_target_char_index[sampled_token_index]\n",
        "        decoded_sentence += ' '+sampled_char\n",
        "        # Exit condition: either hit max length\n",
        "        # or find stop character.\n",
        "        if (sampled_char == '_END' or len(decoded_sentence) > max_lenght_es):\n",
        "            stop_condition = True\n",
        "            # Update the target sequence (of length 1).\n",
        "        target_seq = np.zeros((1,1))\n",
        "        target_seq[0, 0] = sampled_token_index\n",
        "        # Update states\n",
        "        states_value = [h, c]\n",
        "    return decoded_sentence"
      ],
      "execution_count": null,
      "outputs": []
    },
    {
      "cell_type": "code",
      "metadata": {
        "colab": {
          "base_uri": "https://localhost:8080/"
        },
        "id": "6_zRoCMmPMyd",
        "outputId": "840fae63-1047-47bf-d938-eb35d1db6370"
      },
      "source": [
        "print('Sentencia en Inglés --> Traducción por la red Seq2Seq al Español')\n",
        "\n",
        " # Decodifica una por una de secuencias del conjunto de entrenamiento\n",
        "for seq_index in range(35):\n",
        "    \n",
        "    # secuencia codificada en one-hot\n",
        "    input_seq        = encoder_input_data[seq_index: seq_index + 1]\n",
        "    \n",
        "    # transformada por el modelo y decodificada caracter a caracter.\n",
        "    decoded_sentence = decode_sequence(input_seq)\n",
        "    \n",
        "    # despliega resultados\n",
        "    print(df.en[seq_index], ' --> ', decoded_sentence)"
      ],
      "execution_count": null,
      "outputs": [
        {
          "output_type": "stream",
          "text": [
            "Sentencia en Inglés --> Traducción por la red Seq2Seq al Español\n",
            "The Loner  -->   La Solitaria _END\n",
            "You love curry, right?  -->   Te encanta el curry, ¿no? _END\n",
            "I'll give you more.  -->   Te pondré más. _END\n",
            "Hey!  -->   ¡Eh! _END\n",
            "Is it good?  -->   ¿Está bueno? _END\n",
            "Hey, ugly.  -->   Eh, fea. _END\n",
            "Look at her.  -->   Miradla. _END\n",
            "- Crazy bitch.  -->   - Puta loca. _END\n",
            "- I asked you a question!  -->   - ¡Te he preguntado! _END\n",
            "That's better!  -->   ¡Así estás mejor! _END\n",
            "- Looking good!  -->   - ¡Estás muy guapa! _END\n",
            "- That's better!  -->   - ¡Mucho mejor! _END\n",
            "It suits her.  -->   Le queda bien. _END\n",
            "- Hey.  -->   - Eh. _END\n",
            "- What the?  -->   - ¡Idiota! _END\n",
            "What the hell are you doing?  -->   ¿Qué coño haces? _END\n",
            "Get out of my face, bitch.  -->   Quita de mi vista, zorra. _END\n",
            "Stop picking on Ha-jung!  -->   ¡Dejad de meteros con Ha-jung! _END\n",
            "What the hell?  -->   ¿Qué dices? _END\n",
            "Get lost, bitch!  -->   Piérdete. _END\n",
            "What?  -->   ¿Qué? _END\n",
            "Stop it, Soo-na!  -->   ¡Déjala, Soo-na! _END\n",
            "I'm okay.  -->   Estoy bien. _END\n",
            "Let it go.  -->   No importa. _END\n",
            "Are you stupid?  -->   Eso es lo que dices siempre. ¿Eres tonta? _END\n",
            "Why do you let those losers bully you like that?  -->   ¿Por qué dejas que esas perdedoras te acosen? _END\n",
            "Those what?  -->   Piérdete. _END\n",
            "Hey!  -->   ¡Eh! _END\n",
            "Mind your own business and get lost.  -->   Métete en tus asuntos y vete. _END\n",
            "The hell you looking at, bitch?  -->   ¿Qué miras, zorra? _END\n",
            "You lovers or somethin'?  -->   ¿Sois amantes o qué? _END\n",
            "Didn't you know?  -->   ¿No lo sabias? _END\n",
            "Shut up!  -->   ¡Levántense! _END\n",
            "I'll get you for this!  -->   ¡Ya lo pagareis! _END\n",
            "- Stop it, please.  -->   - Para, por favor. _END\n"
          ],
          "name": "stdout"
        }
      ]
    },
    {
      "cell_type": "code",
      "metadata": {
        "id": "cN4cV5GcPTHK"
      },
      "source": [
        ""
      ],
      "execution_count": null,
      "outputs": []
    }
  ]
}